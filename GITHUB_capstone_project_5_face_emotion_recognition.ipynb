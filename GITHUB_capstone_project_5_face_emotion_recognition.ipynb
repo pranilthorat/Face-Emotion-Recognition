{
  "nbformat": 4,
  "nbformat_minor": 0,
  "metadata": {
    "colab": {
      "name": "GITHUB capstone project-5 face emotion recognition.ipynb",
      "provenance": [],
      "collapsed_sections": [],
      "mount_file_id": "16tOiw1B5um5OjGQ7rK59Fnp130e5M-Ep",
      "authorship_tag": "ABX9TyPmms8MkYnZfkGtWTzTam++",
      "include_colab_link": true
    },
    "kernelspec": {
      "name": "python3",
      "display_name": "Python 3"
    },
    "language_info": {
      "name": "python"
    }
  },
  "cells": [
    {
      "cell_type": "markdown",
      "metadata": {
        "id": "view-in-github",
        "colab_type": "text"
      },
      "source": [
        "<a href=\"https://colab.research.google.com/github/pranilthorat/almabetter-capstone-project-5-face-emotion-recognition/blob/main/GITHUB_capstone_project_5_face_emotion_recognition.ipynb\" target=\"_parent\"><img src=\"https://colab.research.google.com/assets/colab-badge.svg\" alt=\"Open In Colab\"/></a>"
      ]
    },
    {
      "cell_type": "markdown",
      "source": [
        "# **Project Name** \n",
        "# **Live Class Monitoring System(Face Emotion Recognition)**"
      ],
      "metadata": {
        "id": "vfvq0mMc-JDF"
      }
    },
    {
      "cell_type": "markdown",
      "source": [
        "# **Project Indroduction**\n",
        "The Indian education landscape has been undergoing rapid changes for the past 10 years owing to\n",
        "the advancement of web-based learning services, specifically, eLearning platforms.\n",
        "\n",
        "Global E-learning is estimated to witness an 8X over the next 5 years to reach USD 2B in 2021. \n",
        "India\n",
        "is expected to grow with a CAGR of 44% crossing the 10M users mark in 2021. Although the market\n",
        "is growing on a rapid scale, there are major challenges associated with digital learning when\n",
        "compared with brick and mortar classrooms.\n",
        "\n",
        " One of many challenges is how to ensure quality\n",
        "learning for students. Digital platforms might overpower physical classrooms in terms of content\n",
        "quality but when it comes to understanding whether students are able to grasp the content in a live\n",
        "class scenario is yet an open-end challenge.\n",
        "\n",
        "In a physical classroom during a lecturing teacher can see the faces and assess the emotion of the\n",
        "class and tune their lecture accordingly, whether he is going fast or slow. He can identify students who\n",
        "need special attention. \n",
        "\n",
        "Digital classrooms are conducted via video telephony software program (exZoom) where it’s not possible for medium scale class (25-50) to see all students and access the\n",
        "mood. Because of this drawback, students are not focusing on content due to lack of surveillance.\n",
        "\n",
        "While digital platforms have limitations in terms of physical surveillance but it comes with the power of\n",
        "data and machines which can work for you. It provides data in the form of video, audio, and texts\n",
        "which can be analysed using deep learning algorithms.\n",
        "\n",
        " Deep learning backed system not only solves\n",
        "the surveillance issue, but it also removes the human bias from the system, and all information is no\n",
        "longer in the teacher’s brain rather translated in numbers that can be analysed and tracked."
      ],
      "metadata": {
        "id": "VdOxvmLr-NAL"
      }
    },
    {
      "cell_type": "markdown",
      "source": [
        "# **Problem Statement**\n",
        "We will solve the above-mentioned challenge by applying deep learning algorithms to live video data.\n",
        "\n",
        "The solution to this problem is by recognizing facial emotions."
      ],
      "metadata": {
        "id": "k3ruj3uP-Wck"
      }
    },
    {
      "cell_type": "markdown",
      "source": [
        "# **What is Face Emotion Recognition ?**\n",
        "This is a few shot learning live face emotion detection system. The model should be able to real-time\n",
        "identify the emotions of students in a live class."
      ],
      "metadata": {
        "id": "lObbU6OW-nC6"
      }
    },
    {
      "cell_type": "markdown",
      "source": [
        "# **Importing Libraries**"
      ],
      "metadata": {
        "id": "QGfON3eD-hKa"
      }
    },
    {
      "cell_type": "code",
      "source": [
        "#install opencv_python\n",
        "pip install opencv_python"
      ],
      "metadata": {
        "colab": {
          "base_uri": "https://localhost:8080/"
        },
        "id": "M0Tky8Sr_fjU",
        "outputId": "f92cfa22-61c1-4ed2-b8ff-23e3ccc926da"
      },
      "execution_count": 4,
      "outputs": [
        {
          "output_type": "stream",
          "name": "stdout",
          "text": [
            "Requirement already satisfied: opencv_python in /usr/local/lib/python3.7/dist-packages (4.1.2.30)\n",
            "Requirement already satisfied: numpy>=1.14.5 in /usr/local/lib/python3.7/dist-packages (from opencv_python) (1.19.5)\n"
          ]
        }
      ]
    },
    {
      "cell_type": "code",
      "execution_count": 5,
      "metadata": {
        "id": "OQaZ8VSB9WOX"
      },
      "outputs": [],
      "source": [
        "#importing all the libraries\n",
        "import pandas as pd\n",
        "import cv2\n",
        "import numpy as np\n",
        "import matplotlib.pyplot as plt\n",
        "import seaborn as sns\n",
        "### CNN models ###\n",
        "import keras\n",
        "from keras.preprocessing.image import ImageDataGenerator, array_to_img, img_to_array, load_img\n",
        "from keras.callbacks import CSVLogger, ModelCheckpoint, EarlyStopping,ReduceLROnPlateau\n",
        "from keras.models import Sequential\n",
        "from keras.layers.core import Dense, Dropout, Activation, Flatten\n",
        "from keras.layers.convolutional import Conv2D, MaxPooling2D, SeparableConv2D\n",
        "from keras.utils import np_utils\n",
        "from keras.regularizers import l2\n",
        "# from keras.optimizers import SGD, RMSprop\n",
        "# from keras.utils import to_categorical\n",
        "# from keras.layers.normalization import BatchNormalization\n",
        "from keras import models\n",
        "from keras.utils.vis_utils import plot_model\n",
        "from keras.layers import Input, GlobalAveragePooling2D,concatenate\n",
        "from keras.models import Model\n",
        "from tensorflow.keras import layers\n",
        "from keras.applications.inception_v3 import InceptionV3\n",
        "\n",
        "\n",
        "from sklearn.model_selection import train_test_split\n",
        "from sklearn.preprocessing import LabelEncoder\n",
        "from sklearn.metrics import classification_report\n",
        "\n",
        "import tensorflow as tf\n",
        "from tensorflow.keras import optimizers\n",
        "from tensorflow.keras.datasets import mnist\n",
        "from tensorflow.keras.models import Sequential\n",
        "from tensorflow.keras.layers import Flatten, Dense, Conv2D, MaxPooling2D\n",
        "from tensorflow.keras.layers import Dropout, BatchNormalization, LeakyReLU, Activation\n",
        "from tensorflow.keras.callbacks import Callback, EarlyStopping, ReduceLROnPlateau\n",
        "from tensorflow.keras.preprocessing.image import ImageDataGenerator\n",
        "\n",
        "from keras.utils import np_utils\n",
        "\n",
        "\n",
        "from sklearn.model_selection import train_test_split\n",
        "from sklearn.metrics import accuracy_score\n",
        "from sklearn.metrics import plot_confusion_matrix\n",
        "from sklearn.metrics import classification_report\n",
        "from sklearn.metrics import roc_curve, roc_auc_score\n",
        "\n",
        "import sys, os\n",
        "import pandas as pd\n",
        "import numpy as np\n",
        "import math\n",
        "import cv2\n",
        "from sklearn.model_selection import train_test_split\n",
        "from keras.models import Sequential\n",
        "from keras.layers import Dense, Dropout, Activation, Flatten\n",
        "from keras.layers import Conv2D, MaxPooling2D, BatchNormalization\n",
        "from keras.losses import categorical_crossentropy\n",
        "# from keras.optimizers import Adam\n",
        "from keras.regularizers import l2\n",
        "from keras.callbacks import ReduceLROnPlateau, TensorBoard, EarlyStopping, ModelCheckpoint\n",
        "from keras.models import load_model\n",
        "from matplotlib import pyplot\n"
      ]
    },
    {
      "cell_type": "markdown",
      "source": [
        "# **Inspect the Data in First Look**"
      ],
      "metadata": {
        "id": "C1KeVpi0-4f6"
      }
    },
    {
      "cell_type": "code",
      "source": [
        "!unzip /content/drive/MyDrive/archive.zip"
      ],
      "metadata": {
        "colab": {
          "base_uri": "https://localhost:8080/"
        },
        "id": "e09qYnsmFVjx",
        "outputId": "e64efad7-8aaf-4ea0-97fa-c5f4e2c99324"
      },
      "execution_count": 25,
      "outputs": [
        {
          "output_type": "stream",
          "name": "stdout",
          "text": [
            "Archive:  /content/drive/MyDrive/archive.zip\n",
            "replace fer2013.csv? [y]es, [n]o, [A]ll, [N]one, [r]ename: n\n"
          ]
        }
      ]
    },
    {
      "cell_type": "code",
      "source": [
        "# Image Reading\n",
        "img_array=cv2.imread('/content/drive/MyDrive/archive.zip/img.jpg')"
      ],
      "metadata": {
        "id": "OELtCZNk-0y6"
      },
      "execution_count": 22,
      "outputs": []
    }
  ]
}